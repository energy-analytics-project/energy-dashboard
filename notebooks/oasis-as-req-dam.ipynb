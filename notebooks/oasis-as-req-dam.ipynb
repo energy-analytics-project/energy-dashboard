{
 "cells": [
  {
   "cell_type": "markdown",
   "metadata": {},
   "source": [
    "# OASIS AS_REQ DAM\n",
    "OASIS AS_REQ Day Ahead Market Report(s)"
   ]
  },
  {
   "cell_type": "markdown",
   "metadata": {},
   "source": [
    "## Download Data\n",
    "\n",
    "#### To run this report, first downloaded the database into the same directory as this notebook, and unzip it.\n",
    "See this page for the list of available reports and the download links:\n",
    "\n",
    "https://github.com/energy-analytics-project/energy-dashboard/blob/master/docs/datasets.md"
   ]
  },
  {
   "cell_type": "markdown",
   "metadata": {},
   "source": [
    "## Preview Data\n",
    "\n",
    "#### Then check to see what tables are available using the command line and sqlite3\n",
    "\n",
    "```bash\n",
    "$ sqlite3 data-oasis-as-req-dam_00.db \".tables\"\n",
    "\n",
    "\n",
    "disclaimer_item  messagepayload   report_data      report_item    \n",
    "messageheader    oasisreport      report_header    rto  \n",
    "```\n",
    "\n",
    "#### Look at table structure\n",
    "\n",
    "```bash\n",
    "$ sqlite3 data-oasis-as-req-dam_00.db \".tables\" | sed 's/ /\\n/g' | sed '/^\\s*$/d'\n",
    "\n",
    "disclaimer_item\n",
    "messagepayload\n",
    "report_data\n",
    "report_item\n",
    "messageheader\n",
    "oasisreport\n",
    "report_header\n",
    "rto\n",
    "```\n",
    "\n",
    "\n",
    "```bash\n",
    "$ sqlite3 data-oasis-as-req-dam_00.db \".tables\" | sed 's/ /\\n/g' | sed '/^\\s*$/d' | xargs -L 1 -I {} sqlite3 data-oasis-as-req-dam_00.db \"pragma table_info([{}]);\"\n",
    "\n",
    "0|disclaimer|TEXT|0||1\n",
    "1|rto_name|TEXT|0||0\n",
    "\n",
    "0|id|TEXT|0||1\n",
    "1|oasisreport_id|TEXT|0||0\n",
    "\n",
    "0|interval_num|INTEGER|0||1\n",
    "1|interval_start_gmt|TEXT|0||2\n",
    "2|resource_name|TEXT|0||3\n",
    "3|interval_end_gmt|TEXT|0||4\n",
    "4|opr_date|TEXT|0||5\n",
    "5|value|INTEGER|0||6\n",
    "6|data_item|TEXT|0||7\n",
    "7|report_item_id|TEXT|0||0\n",
    "\n",
    "0|id|TEXT|0||1\n",
    "1|rto_name|TEXT|0||0\n",
    "0|timedate|TEXT|0||1\n",
    "1|source|TEXT|0||2\n",
    "2|version|TEXT|0||3\n",
    "3|oasisreport_id|TEXT|0||0\n",
    "\n",
    "0|id|TEXT|0||1\n",
    "\n",
    "0|report|TEXT|0||1\n",
    "1|system|TEXT|0||2\n",
    "2|uom|TEXT|0||3\n",
    "3|mkt_type|TEXT|0||5\n",
    "4|sec_per_interval|INTEGER|0||4\n",
    "5|interval|TEXT|0||6\n",
    "6|tz|TEXT|0||7\n",
    "7|report_item_id|TEXT|0||0\n",
    "\n",
    "0|name|TEXT|0||1\n",
    "1|messagepayload_id|TEXT|0||0\n",
    "```\n",
    "\n",
    "So it's clear that report_data, report_header, and report_item are the important tables here."
   ]
  },
  {
   "cell_type": "markdown",
   "metadata": {},
   "source": [
    "## Load Data"
   ]
  },
  {
   "cell_type": "code",
   "execution_count": 54,
   "metadata": {},
   "outputs": [],
   "source": [
    "import sqlite3\n",
    "import pandas as pd\n",
    "import matplotlib.pyplot as plt\n",
    "from pandasql import sqldf\n",
    "\n",
    "# Create the connection to the unzipped database\n",
    "cnx  = sqlite3.connect(r'./data-oasis-as-req-dam_00.db')"
   ]
  },
  {
   "cell_type": "markdown",
   "metadata": {},
   "source": [
    "## Preview the schema"
   ]
  },
  {
   "cell_type": "code",
   "execution_count": 55,
   "metadata": {},
   "outputs": [
    {
     "name": "stdout",
     "output_type": "stream",
     "text": [
      "--------------------------------------------------\n",
      "table: disclaimer_item\n",
      "--------------------------------------------------\n",
      "(0, 'disclaimer', 'TEXT', 0, None, 1)\n",
      "(1, 'rto_name', 'TEXT', 0, None, 0)\n",
      "--------------------------------------------------\n",
      "table: messagepayload\n",
      "--------------------------------------------------\n",
      "(0, 'id', 'TEXT', 0, None, 1)\n",
      "(1, 'oasisreport_id', 'TEXT', 0, None, 0)\n",
      "--------------------------------------------------\n",
      "table: report_data\n",
      "--------------------------------------------------\n",
      "(0, 'interval_num', 'INTEGER', 0, None, 1)\n",
      "(1, 'interval_start_gmt', 'TEXT', 0, None, 2)\n",
      "(2, 'resource_name', 'TEXT', 0, None, 3)\n",
      "(3, 'interval_end_gmt', 'TEXT', 0, None, 4)\n",
      "(4, 'opr_date', 'TEXT', 0, None, 5)\n",
      "(5, 'value', 'INTEGER', 0, None, 6)\n",
      "(6, 'data_item', 'TEXT', 0, None, 7)\n",
      "(7, 'report_item_id', 'TEXT', 0, None, 0)\n",
      "--------------------------------------------------\n",
      "table: report_item\n",
      "--------------------------------------------------\n",
      "(0, 'id', 'TEXT', 0, None, 1)\n",
      "(1, 'rto_name', 'TEXT', 0, None, 0)\n",
      "--------------------------------------------------\n",
      "table: messageheader\n",
      "--------------------------------------------------\n",
      "(0, 'timedate', 'TEXT', 0, None, 1)\n",
      "(1, 'source', 'TEXT', 0, None, 2)\n",
      "(2, 'version', 'TEXT', 0, None, 3)\n",
      "(3, 'oasisreport_id', 'TEXT', 0, None, 0)\n",
      "--------------------------------------------------\n",
      "table: oasisreport\n",
      "--------------------------------------------------\n",
      "(0, 'id', 'TEXT', 0, None, 1)\n",
      "--------------------------------------------------\n",
      "table: report_header\n",
      "--------------------------------------------------\n",
      "(0, 'report', 'TEXT', 0, None, 1)\n",
      "(1, 'system', 'TEXT', 0, None, 2)\n",
      "(2, 'uom', 'TEXT', 0, None, 3)\n",
      "(3, 'mkt_type', 'TEXT', 0, None, 5)\n",
      "(4, 'sec_per_interval', 'INTEGER', 0, None, 4)\n",
      "(5, 'interval', 'TEXT', 0, None, 6)\n",
      "(6, 'tz', 'TEXT', 0, None, 7)\n",
      "(7, 'report_item_id', 'TEXT', 0, None, 0)\n",
      "--------------------------------------------------\n",
      "table: rto\n",
      "--------------------------------------------------\n",
      "(0, 'name', 'TEXT', 0, None, 1)\n",
      "(1, 'messagepayload_id', 'TEXT', 0, None, 0)\n"
     ]
    }
   ],
   "source": [
    "for table in ['disclaimer_item','messagepayload','report_data','report_item','messageheader','oasisreport','report_header','rto']:      \n",
    "    print(\"--------------------------------------------------\")\n",
    "    print(\"table: %s\" % table)\n",
    "    print(\"--------------------------------------------------\")\n",
    "    for row in cnx.execute(\"PRAGMA table_info([%s]);\" % table):\n",
    "         print(row)"
   ]
  },
  {
   "cell_type": "markdown",
   "metadata": {},
   "source": [
    "## Select Data"
   ]
  },
  {
   "cell_type": "code",
   "execution_count": 56,
   "metadata": {
    "scrolled": true
   },
   "outputs": [
    {
     "data": {
      "text/html": [
       "<div>\n",
       "<style scoped>\n",
       "    .dataframe tbody tr th:only-of-type {\n",
       "        vertical-align: middle;\n",
       "    }\n",
       "\n",
       "    .dataframe tbody tr th {\n",
       "        vertical-align: top;\n",
       "    }\n",
       "\n",
       "    .dataframe thead th {\n",
       "        text-align: right;\n",
       "    }\n",
       "</style>\n",
       "<table border=\"1\" class=\"dataframe\">\n",
       "  <thead>\n",
       "    <tr style=\"text-align: right;\">\n",
       "      <th></th>\n",
       "      <th>data_item</th>\n",
       "      <th>value</th>\n",
       "      <th>uom</th>\n",
       "      <th>report</th>\n",
       "      <th>mkt_type</th>\n",
       "      <th>interval_start_gmt</th>\n",
       "      <th>interval_end_gmt</th>\n",
       "    </tr>\n",
       "  </thead>\n",
       "  <tbody>\n",
       "    <tr>\n",
       "      <td>0</td>\n",
       "      <td>NS_REQ_MAX_MW</td>\n",
       "      <td>0</td>\n",
       "      <td>MW</td>\n",
       "      <td>AS_REQ</td>\n",
       "      <td>DAM</td>\n",
       "      <td>2013-08-26T07:00:00-00:00</td>\n",
       "      <td>2013-08-26T08:00:00-00:00</td>\n",
       "    </tr>\n",
       "    <tr>\n",
       "      <td>1</td>\n",
       "      <td>NS_REQ_MAX_MW</td>\n",
       "      <td>0</td>\n",
       "      <td>MW</td>\n",
       "      <td>AS_REQ</td>\n",
       "      <td>DAM</td>\n",
       "      <td>2013-08-26T08:00:00-00:00</td>\n",
       "      <td>2013-08-26T09:00:00-00:00</td>\n",
       "    </tr>\n",
       "    <tr>\n",
       "      <td>2</td>\n",
       "      <td>NS_REQ_MAX_MW</td>\n",
       "      <td>0</td>\n",
       "      <td>MW</td>\n",
       "      <td>AS_REQ</td>\n",
       "      <td>DAM</td>\n",
       "      <td>2013-08-26T09:00:00-00:00</td>\n",
       "      <td>2013-08-26T10:00:00-00:00</td>\n",
       "    </tr>\n",
       "    <tr>\n",
       "      <td>3</td>\n",
       "      <td>NS_REQ_MAX_MW</td>\n",
       "      <td>0</td>\n",
       "      <td>MW</td>\n",
       "      <td>AS_REQ</td>\n",
       "      <td>DAM</td>\n",
       "      <td>2013-08-26T10:00:00-00:00</td>\n",
       "      <td>2013-08-26T11:00:00-00:00</td>\n",
       "    </tr>\n",
       "    <tr>\n",
       "      <td>4</td>\n",
       "      <td>NS_REQ_MAX_MW</td>\n",
       "      <td>0</td>\n",
       "      <td>MW</td>\n",
       "      <td>AS_REQ</td>\n",
       "      <td>DAM</td>\n",
       "      <td>2013-08-26T11:00:00-00:00</td>\n",
       "      <td>2013-08-26T12:00:00-00:00</td>\n",
       "    </tr>\n",
       "  </tbody>\n",
       "</table>\n",
       "</div>"
      ],
      "text/plain": [
       "       data_item  value uom  report mkt_type         interval_start_gmt  \\\n",
       "0  NS_REQ_MAX_MW      0  MW  AS_REQ      DAM  2013-08-26T07:00:00-00:00   \n",
       "1  NS_REQ_MAX_MW      0  MW  AS_REQ      DAM  2013-08-26T08:00:00-00:00   \n",
       "2  NS_REQ_MAX_MW      0  MW  AS_REQ      DAM  2013-08-26T09:00:00-00:00   \n",
       "3  NS_REQ_MAX_MW      0  MW  AS_REQ      DAM  2013-08-26T10:00:00-00:00   \n",
       "4  NS_REQ_MAX_MW      0  MW  AS_REQ      DAM  2013-08-26T11:00:00-00:00   \n",
       "\n",
       "            interval_end_gmt  \n",
       "0  2013-08-26T08:00:00-00:00  \n",
       "1  2013-08-26T09:00:00-00:00  \n",
       "2  2013-08-26T10:00:00-00:00  \n",
       "3  2013-08-26T11:00:00-00:00  \n",
       "4  2013-08-26T12:00:00-00:00  "
      ]
     },
     "execution_count": 56,
     "metadata": {},
     "output_type": "execute_result"
    }
   ],
   "source": [
    "df = pd.read_sql(\"select report_data.data_item, report_data.value, report_header.uom, report_header.report, report_header.mkt_type, report_data.interval_start_gmt, report_data.interval_end_gmt from report_header inner join report_data on report_header.report_item_id = report_data.report_item_id;\", cnx)\n",
    "df[0:5]"
   ]
  },
  {
   "cell_type": "markdown",
   "metadata": {},
   "source": [
    "## Reports"
   ]
  },
  {
   "cell_type": "code",
   "execution_count": 57,
   "metadata": {},
   "outputs": [
    {
     "data": {
      "image/png": "[encoded data removed]",
      "text/plain": [
       "<Figure size 432x288 with 1 Axes>"
      ]
     },
     "metadata": {
      "needs_background": "light"
     },
     "output_type": "display_data"
    }
   ],
   "source": [
    "for title, group in df.groupby(['report']):\n",
    "    group.plot.line(x='interval_start_gmt', y='value', title=title)"
   ]
  },
  {
   "cell_type": "markdown",
   "metadata": {},
   "source": [
    "## Errors"
   ]
  },
  {
   "cell_type": "markdown",
   "metadata": {},
   "source": [
    "This is showing that there is a pipeline error. All the report_data.value records for this report are '0', which is clearly not the case. When this sort of thing happens, it's useful to drop back into Sqlite3 and verify the database\n",
    "directly:\n",
    "\n",
    "```bash\n",
    "$ sqlite3 data-oasis-as-req-dam_00.db \n",
    "SQLite version 3.28.0 2019-04-16 19:49:53\n",
    "Enter \".help\" for usage hints.\n",
    "sqlite> select report_data.data_item, report_data.value, report_header.uom, report_header.report, report_header.mkt_type, report_data.interval_start_gmt, report_data.interval_end_gmt from report_header inner join report_data on report_header.report_item_id = report_data.report_item_id limit 10;\n",
    "NS_REQ_MAX_MW|0|MW|AS_REQ|DAM|2013-08-26T07:00:00-00:00|2013-08-26T08:00:00-00:00\n",
    "NS_REQ_MAX_MW|0|MW|AS_REQ|DAM|2013-08-26T08:00:00-00:00|2013-08-26T09:00:00-00:00\n",
    "NS_REQ_MAX_MW|0|MW|AS_REQ|DAM|2013-08-26T09:00:00-00:00|2013-08-26T10:00:00-00:00\n",
    "NS_REQ_MAX_MW|0|MW|AS_REQ|DAM|2013-08-26T10:00:00-00:00|2013-08-26T11:00:00-00:00\n",
    "NS_REQ_MAX_MW|0|MW|AS_REQ|DAM|2013-08-26T11:00:00-00:00|2013-08-26T12:00:00-00:00\n",
    "NS_REQ_MAX_MW|0|MW|AS_REQ|DAM|2013-08-26T12:00:00-00:00|2013-08-26T13:00:00-00:00\n",
    "NS_REQ_MAX_MW|0|MW|AS_REQ|DAM|2013-08-26T13:00:00-00:00|2013-08-26T14:00:00-00:00\n",
    "NS_REQ_MAX_MW|0|MW|AS_REQ|DAM|2013-08-26T14:00:00-00:00|2013-08-26T15:00:00-00:00\n",
    "NS_REQ_MAX_MW|0|MW|AS_REQ|DAM|2013-08-26T15:00:00-00:00|2013-08-26T16:00:00-00:00\n",
    "NS_REQ_MAX_MW|0|MW|AS_REQ|DAM|2013-08-26T16:00:00-00:00|2013-08-26T17:00:00-00:00\n",
    "\n",
    "sqlite> select report_data.data_item, report_data.value, report_header.uom, report_header.report, report_header.mkt_type, report_data.interval_start_gmt, report_data.interval_end_gmt from report_header inner join report_data on report_header.report_item_id = report_data.report_item_id where report_data.value > 0 limit 10;\n",
    "\n",
    "```\n",
    "\n",
    "So direct verification with the db shows that all values are zero.\n",
    "\n",
    "BUG: fix the data-oasis-as-req-dam_00.db feed.\n",
    "\n",
    "Today is Sept 30 and this will be my top issue for this afternoon. I'll detail how I diagnose this issue in this report for future adopters to trouble shoot problems as they arise."
   ]
  }
 ],
 "metadata": {
  "kernelspec": {
   "display_name": "Python 3",
   "language": "python",
   "name": "python3"
  },
  "language_info": {
   "codemirror_mode": {
    "name": "ipython",
    "version": 3
   },
   "file_extension": ".py",
   "mimetype": "text/x-python",
   "name": "python",
   "nbconvert_exporter": "python",
   "pygments_lexer": "ipython3",
   "version": "3.7.3"
  }
 },
 "nbformat": 4,
 "nbformat_minor": 2
}
